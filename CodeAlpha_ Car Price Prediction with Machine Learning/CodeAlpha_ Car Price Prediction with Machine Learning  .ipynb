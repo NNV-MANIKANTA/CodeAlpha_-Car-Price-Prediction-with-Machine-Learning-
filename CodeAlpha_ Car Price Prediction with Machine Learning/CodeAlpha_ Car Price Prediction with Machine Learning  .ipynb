{
 "cells": [
  {
   "cell_type": "markdown",
   "id": "421572c6-8716-4610-a6c3-1d25779d1f27",
   "metadata": {},
   "source": [
    "# Import Libraries"
   ]
  },
  {
   "cell_type": "code",
   "execution_count": 3,
   "id": "5458547d-0138-482c-a9fd-9ce6932035b9",
   "metadata": {},
   "outputs": [],
   "source": [
    "import pandas as pd\n",
    "import numpy as np\n",
    "import matplotlib.pyplot as plt\n",
    "import seaborn as sns\n",
    "\n",
    "from sklearn.model_selection import train_test_split\n",
    "from sklearn.preprocessing import OneHotEncoder\n",
    "from sklearn.compose import ColumnTransformer\n",
    "from sklearn.pipeline import Pipeline\n",
    "from sklearn.ensemble import RandomForestRegressor\n",
    "from sklearn.metrics import r2_score, mean_squared_error"
   ]
  },
  {
   "cell_type": "markdown",
   "id": "2f8e71bb-ec58-467d-ad38-53440939916c",
   "metadata": {},
   "source": [
    "# Load & Inspect Data"
   ]
  },
  {
   "cell_type": "code",
   "execution_count": 6,
   "id": "bad512d0-bb6f-44b8-b610-acbcbee11585",
   "metadata": {},
   "outputs": [
    {
     "name": "stdout",
     "output_type": "stream",
     "text": [
      "<class 'pandas.core.frame.DataFrame'>\n",
      "RangeIndex: 301 entries, 0 to 300\n",
      "Data columns (total 9 columns):\n",
      " #   Column         Non-Null Count  Dtype  \n",
      "---  ------         --------------  -----  \n",
      " 0   Car_Name       301 non-null    object \n",
      " 1   Year           301 non-null    int64  \n",
      " 2   Selling_Price  301 non-null    float64\n",
      " 3   Present_Price  301 non-null    float64\n",
      " 4   Driven_kms     301 non-null    int64  \n",
      " 5   Fuel_Type      301 non-null    object \n",
      " 6   Selling_type   301 non-null    object \n",
      " 7   Transmission   301 non-null    object \n",
      " 8   Owner          301 non-null    int64  \n",
      "dtypes: float64(2), int64(3), object(4)\n",
      "memory usage: 21.3+ KB\n"
     ]
    },
    {
     "data": {
      "text/html": [
       "<div>\n",
       "<style scoped>\n",
       "    .dataframe tbody tr th:only-of-type {\n",
       "        vertical-align: middle;\n",
       "    }\n",
       "\n",
       "    .dataframe tbody tr th {\n",
       "        vertical-align: top;\n",
       "    }\n",
       "\n",
       "    .dataframe thead th {\n",
       "        text-align: right;\n",
       "    }\n",
       "</style>\n",
       "<table border=\"1\" class=\"dataframe\">\n",
       "  <thead>\n",
       "    <tr style=\"text-align: right;\">\n",
       "      <th></th>\n",
       "      <th>Car_Name</th>\n",
       "      <th>Year</th>\n",
       "      <th>Selling_Price</th>\n",
       "      <th>Present_Price</th>\n",
       "      <th>Driven_kms</th>\n",
       "      <th>Fuel_Type</th>\n",
       "      <th>Selling_type</th>\n",
       "      <th>Transmission</th>\n",
       "      <th>Owner</th>\n",
       "    </tr>\n",
       "  </thead>\n",
       "  <tbody>\n",
       "    <tr>\n",
       "      <th>0</th>\n",
       "      <td>ritz</td>\n",
       "      <td>2014</td>\n",
       "      <td>3.35</td>\n",
       "      <td>5.59</td>\n",
       "      <td>27000</td>\n",
       "      <td>Petrol</td>\n",
       "      <td>Dealer</td>\n",
       "      <td>Manual</td>\n",
       "      <td>0</td>\n",
       "    </tr>\n",
       "    <tr>\n",
       "      <th>1</th>\n",
       "      <td>sx4</td>\n",
       "      <td>2013</td>\n",
       "      <td>4.75</td>\n",
       "      <td>9.54</td>\n",
       "      <td>43000</td>\n",
       "      <td>Diesel</td>\n",
       "      <td>Dealer</td>\n",
       "      <td>Manual</td>\n",
       "      <td>0</td>\n",
       "    </tr>\n",
       "    <tr>\n",
       "      <th>2</th>\n",
       "      <td>ciaz</td>\n",
       "      <td>2017</td>\n",
       "      <td>7.25</td>\n",
       "      <td>9.85</td>\n",
       "      <td>6900</td>\n",
       "      <td>Petrol</td>\n",
       "      <td>Dealer</td>\n",
       "      <td>Manual</td>\n",
       "      <td>0</td>\n",
       "    </tr>\n",
       "    <tr>\n",
       "      <th>3</th>\n",
       "      <td>wagon r</td>\n",
       "      <td>2011</td>\n",
       "      <td>2.85</td>\n",
       "      <td>4.15</td>\n",
       "      <td>5200</td>\n",
       "      <td>Petrol</td>\n",
       "      <td>Dealer</td>\n",
       "      <td>Manual</td>\n",
       "      <td>0</td>\n",
       "    </tr>\n",
       "    <tr>\n",
       "      <th>4</th>\n",
       "      <td>swift</td>\n",
       "      <td>2014</td>\n",
       "      <td>4.60</td>\n",
       "      <td>6.87</td>\n",
       "      <td>42450</td>\n",
       "      <td>Diesel</td>\n",
       "      <td>Dealer</td>\n",
       "      <td>Manual</td>\n",
       "      <td>0</td>\n",
       "    </tr>\n",
       "  </tbody>\n",
       "</table>\n",
       "</div>"
      ],
      "text/plain": [
       "  Car_Name  Year  Selling_Price  Present_Price  Driven_kms Fuel_Type  \\\n",
       "0     ritz  2014           3.35           5.59       27000    Petrol   \n",
       "1      sx4  2013           4.75           9.54       43000    Diesel   \n",
       "2     ciaz  2017           7.25           9.85        6900    Petrol   \n",
       "3  wagon r  2011           2.85           4.15        5200    Petrol   \n",
       "4    swift  2014           4.60           6.87       42450    Diesel   \n",
       "\n",
       "  Selling_type Transmission  Owner  \n",
       "0       Dealer       Manual      0  \n",
       "1       Dealer       Manual      0  \n",
       "2       Dealer       Manual      0  \n",
       "3       Dealer       Manual      0  \n",
       "4       Dealer       Manual      0  "
      ]
     },
     "execution_count": 6,
     "metadata": {},
     "output_type": "execute_result"
    }
   ],
   "source": [
    "df = pd.read_csv(\"OneDrive/Desktop/car data.csv\")\n",
    "df.shape\n",
    "df.info()\n",
    "df.head()"
   ]
  },
  {
   "cell_type": "code",
   "execution_count": 7,
   "id": "404c0ad3-6c4c-4924-8bdf-7194f0f28a0d",
   "metadata": {},
   "outputs": [],
   "source": [
    "df = df.dropna() "
   ]
  },
  {
   "cell_type": "markdown",
   "id": "5779a09e-3b45-4faf-b3c0-9daff9b638ab",
   "metadata": {},
   "source": [
    "# Define Features & Target"
   ]
  },
  {
   "cell_type": "code",
   "execution_count": 13,
   "id": "4d6d63d8-9dd1-420c-8cd9-d0833f25e5fd",
   "metadata": {},
   "outputs": [],
   "source": [
    "X = df.drop(\"Selling_Price\", axis=1)\n",
    "y = df[\"Selling_Price\"]\n",
    "\n",
    "categorical = ['Fuel_Type', 'Selling_type', 'Transmission']\n",
    "numeric = [col for col in X.columns if col not in categorical]"
   ]
  },
  {
   "cell_type": "markdown",
   "id": "519934e9-8d14-4c33-b2f5-008bbbdc1cfe",
   "metadata": {},
   "source": [
    "# Preprocessing & Model Pipeline"
   ]
  },
  {
   "cell_type": "code",
   "execution_count": 14,
   "id": "0eb7730d-6736-49ff-a369-815fa77bdce7",
   "metadata": {},
   "outputs": [],
   "source": [
    "preprocessor = ColumnTransformer(\n",
    "    transformers=[\n",
    "        ('cat', OneHotEncoder(drop=\"first\"), categorical)\n",
    "    ], remainder=\"passthrough\"\n",
    ")\n",
    "\n",
    "# ML pipeline\n",
    "model = Pipeline(steps=[\n",
    "    ('preprocessor', preprocessor),\n",
    "    ('regressor', RandomForestRegressor(n_estimators=200, random_state=42))\n",
    "])"
   ]
  },
  {
   "cell_type": "markdown",
   "id": "f9df270f-0eaa-4126-b883-2e63a05877ec",
   "metadata": {},
   "source": [
    "# Train-Test Split & Training"
   ]
  },
  {
   "cell_type": "code",
   "execution_count": 15,
   "id": "a77aa591-ec45-43c0-b7ac-369757f39124",
   "metadata": {},
   "outputs": [
    {
     "data": {
      "text/html": [
       "<style>#sk-container-id-1 {color: black;background-color: white;}#sk-container-id-1 pre{padding: 0;}#sk-container-id-1 div.sk-toggleable {background-color: white;}#sk-container-id-1 label.sk-toggleable__label {cursor: pointer;display: block;width: 100%;margin-bottom: 0;padding: 0.3em;box-sizing: border-box;text-align: center;}#sk-container-id-1 label.sk-toggleable__label-arrow:before {content: \"▸\";float: left;margin-right: 0.25em;color: #696969;}#sk-container-id-1 label.sk-toggleable__label-arrow:hover:before {color: black;}#sk-container-id-1 div.sk-estimator:hover label.sk-toggleable__label-arrow:before {color: black;}#sk-container-id-1 div.sk-toggleable__content {max-height: 0;max-width: 0;overflow: hidden;text-align: left;background-color: #f0f8ff;}#sk-container-id-1 div.sk-toggleable__content pre {margin: 0.2em;color: black;border-radius: 0.25em;background-color: #f0f8ff;}#sk-container-id-1 input.sk-toggleable__control:checked~div.sk-toggleable__content {max-height: 200px;max-width: 100%;overflow: auto;}#sk-container-id-1 input.sk-toggleable__control:checked~label.sk-toggleable__label-arrow:before {content: \"▾\";}#sk-container-id-1 div.sk-estimator input.sk-toggleable__control:checked~label.sk-toggleable__label {background-color: #d4ebff;}#sk-container-id-1 div.sk-label input.sk-toggleable__control:checked~label.sk-toggleable__label {background-color: #d4ebff;}#sk-container-id-1 input.sk-hidden--visually {border: 0;clip: rect(1px 1px 1px 1px);clip: rect(1px, 1px, 1px, 1px);height: 1px;margin: -1px;overflow: hidden;padding: 0;position: absolute;width: 1px;}#sk-container-id-1 div.sk-estimator {font-family: monospace;background-color: #f0f8ff;border: 1px dotted black;border-radius: 0.25em;box-sizing: border-box;margin-bottom: 0.5em;}#sk-container-id-1 div.sk-estimator:hover {background-color: #d4ebff;}#sk-container-id-1 div.sk-parallel-item::after {content: \"\";width: 100%;border-bottom: 1px solid gray;flex-grow: 1;}#sk-container-id-1 div.sk-label:hover label.sk-toggleable__label {background-color: #d4ebff;}#sk-container-id-1 div.sk-serial::before {content: \"\";position: absolute;border-left: 1px solid gray;box-sizing: border-box;top: 0;bottom: 0;left: 50%;z-index: 0;}#sk-container-id-1 div.sk-serial {display: flex;flex-direction: column;align-items: center;background-color: white;padding-right: 0.2em;padding-left: 0.2em;position: relative;}#sk-container-id-1 div.sk-item {position: relative;z-index: 1;}#sk-container-id-1 div.sk-parallel {display: flex;align-items: stretch;justify-content: center;background-color: white;position: relative;}#sk-container-id-1 div.sk-item::before, #sk-container-id-1 div.sk-parallel-item::before {content: \"\";position: absolute;border-left: 1px solid gray;box-sizing: border-box;top: 0;bottom: 0;left: 50%;z-index: -1;}#sk-container-id-1 div.sk-parallel-item {display: flex;flex-direction: column;z-index: 1;position: relative;background-color: white;}#sk-container-id-1 div.sk-parallel-item:first-child::after {align-self: flex-end;width: 50%;}#sk-container-id-1 div.sk-parallel-item:last-child::after {align-self: flex-start;width: 50%;}#sk-container-id-1 div.sk-parallel-item:only-child::after {width: 0;}#sk-container-id-1 div.sk-dashed-wrapped {border: 1px dashed gray;margin: 0 0.4em 0.5em 0.4em;box-sizing: border-box;padding-bottom: 0.4em;background-color: white;}#sk-container-id-1 div.sk-label label {font-family: monospace;font-weight: bold;display: inline-block;line-height: 1.2em;}#sk-container-id-1 div.sk-label-container {text-align: center;}#sk-container-id-1 div.sk-container {/* jupyter's `normalize.less` sets `[hidden] { display: none; }` but bootstrap.min.css set `[hidden] { display: none !important; }` so we also need the `!important` here to be able to override the default hidden behavior on the sphinx rendered scikit-learn.org. See: https://github.com/scikit-learn/scikit-learn/issues/21755 */display: inline-block !important;position: relative;}#sk-container-id-1 div.sk-text-repr-fallback {display: none;}</style><div id=\"sk-container-id-1\" class=\"sk-top-container\"><div class=\"sk-text-repr-fallback\"><pre>Pipeline(steps=[(&#x27;preprocessor&#x27;,\n",
       "                 ColumnTransformer(remainder=&#x27;passthrough&#x27;,\n",
       "                                   transformers=[(&#x27;cat&#x27;,\n",
       "                                                  OneHotEncoder(drop=&#x27;first&#x27;),\n",
       "                                                  [&#x27;Fuel_Type&#x27;, &#x27;Selling_type&#x27;,\n",
       "                                                   &#x27;Transmission&#x27;])])),\n",
       "                (&#x27;regressor&#x27;,\n",
       "                 RandomForestRegressor(n_estimators=200, random_state=42))])</pre><b>In a Jupyter environment, please rerun this cell to show the HTML representation or trust the notebook. <br />On GitHub, the HTML representation is unable to render, please try loading this page with nbviewer.org.</b></div><div class=\"sk-container\" hidden><div class=\"sk-item sk-dashed-wrapped\"><div class=\"sk-label-container\"><div class=\"sk-label sk-toggleable\"><input class=\"sk-toggleable__control sk-hidden--visually\" id=\"sk-estimator-id-1\" type=\"checkbox\" ><label for=\"sk-estimator-id-1\" class=\"sk-toggleable__label sk-toggleable__label-arrow\">Pipeline</label><div class=\"sk-toggleable__content\"><pre>Pipeline(steps=[(&#x27;preprocessor&#x27;,\n",
       "                 ColumnTransformer(remainder=&#x27;passthrough&#x27;,\n",
       "                                   transformers=[(&#x27;cat&#x27;,\n",
       "                                                  OneHotEncoder(drop=&#x27;first&#x27;),\n",
       "                                                  [&#x27;Fuel_Type&#x27;, &#x27;Selling_type&#x27;,\n",
       "                                                   &#x27;Transmission&#x27;])])),\n",
       "                (&#x27;regressor&#x27;,\n",
       "                 RandomForestRegressor(n_estimators=200, random_state=42))])</pre></div></div></div><div class=\"sk-serial\"><div class=\"sk-item sk-dashed-wrapped\"><div class=\"sk-label-container\"><div class=\"sk-label sk-toggleable\"><input class=\"sk-toggleable__control sk-hidden--visually\" id=\"sk-estimator-id-2\" type=\"checkbox\" ><label for=\"sk-estimator-id-2\" class=\"sk-toggleable__label sk-toggleable__label-arrow\">preprocessor: ColumnTransformer</label><div class=\"sk-toggleable__content\"><pre>ColumnTransformer(remainder=&#x27;passthrough&#x27;,\n",
       "                  transformers=[(&#x27;cat&#x27;, OneHotEncoder(drop=&#x27;first&#x27;),\n",
       "                                 [&#x27;Fuel_Type&#x27;, &#x27;Selling_type&#x27;,\n",
       "                                  &#x27;Transmission&#x27;])])</pre></div></div></div><div class=\"sk-parallel\"><div class=\"sk-parallel-item\"><div class=\"sk-item\"><div class=\"sk-label-container\"><div class=\"sk-label sk-toggleable\"><input class=\"sk-toggleable__control sk-hidden--visually\" id=\"sk-estimator-id-3\" type=\"checkbox\" ><label for=\"sk-estimator-id-3\" class=\"sk-toggleable__label sk-toggleable__label-arrow\">cat</label><div class=\"sk-toggleable__content\"><pre>[&#x27;Fuel_Type&#x27;, &#x27;Selling_type&#x27;, &#x27;Transmission&#x27;]</pre></div></div></div><div class=\"sk-serial\"><div class=\"sk-item\"><div class=\"sk-estimator sk-toggleable\"><input class=\"sk-toggleable__control sk-hidden--visually\" id=\"sk-estimator-id-4\" type=\"checkbox\" ><label for=\"sk-estimator-id-4\" class=\"sk-toggleable__label sk-toggleable__label-arrow\">OneHotEncoder</label><div class=\"sk-toggleable__content\"><pre>OneHotEncoder(drop=&#x27;first&#x27;)</pre></div></div></div></div></div></div><div class=\"sk-parallel-item\"><div class=\"sk-item\"><div class=\"sk-label-container\"><div class=\"sk-label sk-toggleable\"><input class=\"sk-toggleable__control sk-hidden--visually\" id=\"sk-estimator-id-5\" type=\"checkbox\" ><label for=\"sk-estimator-id-5\" class=\"sk-toggleable__label sk-toggleable__label-arrow\">remainder</label><div class=\"sk-toggleable__content\"><pre>[&#x27;Present_Price&#x27;, &#x27;Driven_kms&#x27;, &#x27;Owner&#x27;, &#x27;Car_Age&#x27;]</pre></div></div></div><div class=\"sk-serial\"><div class=\"sk-item\"><div class=\"sk-estimator sk-toggleable\"><input class=\"sk-toggleable__control sk-hidden--visually\" id=\"sk-estimator-id-6\" type=\"checkbox\" ><label for=\"sk-estimator-id-6\" class=\"sk-toggleable__label sk-toggleable__label-arrow\">passthrough</label><div class=\"sk-toggleable__content\"><pre>passthrough</pre></div></div></div></div></div></div></div></div><div class=\"sk-item\"><div class=\"sk-estimator sk-toggleable\"><input class=\"sk-toggleable__control sk-hidden--visually\" id=\"sk-estimator-id-7\" type=\"checkbox\" ><label for=\"sk-estimator-id-7\" class=\"sk-toggleable__label sk-toggleable__label-arrow\">RandomForestRegressor</label><div class=\"sk-toggleable__content\"><pre>RandomForestRegressor(n_estimators=200, random_state=42)</pre></div></div></div></div></div></div></div>"
      ],
      "text/plain": [
       "Pipeline(steps=[('preprocessor',\n",
       "                 ColumnTransformer(remainder='passthrough',\n",
       "                                   transformers=[('cat',\n",
       "                                                  OneHotEncoder(drop='first'),\n",
       "                                                  ['Fuel_Type', 'Selling_type',\n",
       "                                                   'Transmission'])])),\n",
       "                ('regressor',\n",
       "                 RandomForestRegressor(n_estimators=200, random_state=42))])"
      ]
     },
     "execution_count": 15,
     "metadata": {},
     "output_type": "execute_result"
    }
   ],
   "source": [
    "X_train, X_test, y_train, y_test = train_test_split(\n",
    "    X, y, test_size=0.2, random_state=42\n",
    ")\n",
    "\n",
    "model.fit(X_train, y_train)"
   ]
  },
  {
   "cell_type": "markdown",
   "id": "f535a35e-551c-407f-80a4-f35091170a5a",
   "metadata": {},
   "source": [
    "# Model Evaluation"
   ]
  },
  {
   "cell_type": "code",
   "execution_count": 16,
   "id": "1a605a3a-6beb-4e55-8560-a8eaacca150b",
   "metadata": {},
   "outputs": [
    {
     "name": "stdout",
     "output_type": "stream",
     "text": [
      "R² Score: 0.958\n",
      "RMSE: 0.979\n"
     ]
    }
   ],
   "source": [
    "y_pred = model.predict(X_test)\n",
    "\n",
    "r2 = r2_score(y_test, y_pred)\n",
    "rmse = np.sqrt(mean_squared_error(y_test, y_pred))\n",
    "\n",
    "print(\"R² Score:\", round(r2, 3))\n",
    "print(\"RMSE:\", round(rmse, 3))"
   ]
  },
  {
   "cell_type": "markdown",
   "id": "baed697f-c936-482a-8aa9-ad19dc04d30d",
   "metadata": {},
   "source": [
    "# Visualizations"
   ]
  },
  {
   "cell_type": "code",
   "execution_count": 17,
   "id": "0ee50d72-3256-41c0-82a3-d352b327824d",
   "metadata": {},
   "outputs": [
    {
     "data": {
      "image/png": "[encoded data removed]",
      "text/plain": [
       "<Figure size 600x600 with 1 Axes>"
      ]
     },
     "metadata": {},
     "output_type": "display_data"
    },
    {
     "data": {
      "image/png": "[encoded data removed]",
      "text/plain": [
       "<Figure size 1000x600 with 1 Axes>"
      ]
     },
     "metadata": {},
     "output_type": "display_data"
    }
   ],
   "source": [
    "# Actual vs Predicted\n",
    "plt.figure(figsize=(6,6))\n",
    "sns.scatterplot(x=y_test, y=y_pred)\n",
    "plt.xlabel(\"Actual Selling Price\")\n",
    "plt.ylabel(\"Predicted Selling Price\")\n",
    "plt.title(\"Actual vs Predicted Car Prices\")\n",
    "plt.plot([y_test.min(), y_test.max()], [y_test.min(), y_test.max()], \"r--\")\n",
    "plt.show()\n",
    "\n",
    "# Feature Importances\n",
    "rf = model.named_steps['regressor']\n",
    "enc = model.named_steps['preprocessor'].named_transformers_['cat']\n",
    "feature_names = enc.get_feature_names_out(categorical)\n",
    "all_features = list(feature_names) + numeric\n",
    "\n",
    "importances = rf.feature_importances_\n",
    "feat_imp = pd.Series(importances, index=all_features).sort_values(ascending=False)\n",
    "\n",
    "plt.figure(figsize=(10,6))\n",
    "sns.barplot(x=feat_imp.values, y=feat_imp.index)\n",
    "plt.title(\"Feature Importances in Car Price Prediction\")\n",
    "plt.show()"
   ]
  },
  {
   "cell_type": "markdown",
   "id": "ad054f2d-ea97-47da-91c0-8a3f7402a16f",
   "metadata": {},
   "source": [
    "# 🚙 Car Price Prediction – Project Details"
   ]
  },
  {
   "cell_type": "markdown",
   "id": "164fe2b6-3211-444f-a81a-5cdcc06fd2a8",
   "metadata": {},
   "source": [
    "## 1. Objective"
   ]
  },
  {
   "cell_type": "markdown",
   "id": "ecd7dee2-3889-4300-8ec1-369a2844fa15",
   "metadata": {},
   "source": [
    "The main goal of this project is to predict the selling price of used cars based on their features. This helps:\n",
    "\n",
    "Car dealers to estimate fair prices.\n",
    "\n",
    "Buyers to avoid overpaying.\n",
    "\n",
    "Sellers to know the right selling value."
   ]
  },
  {
   "cell_type": "markdown",
   "id": "8e50f8de-74ff-43ce-88c0-bb0f227f0b49",
   "metadata": {},
   "source": [
    "## 2. Dataset Overview"
   ]
  },
  {
   "cell_type": "markdown",
   "id": "b01873c9-63e4-4c1e-8b60-1ad51c34b830",
   "metadata": {},
   "source": [
    "Rows: 301 (cars).\r\n",
    "\r\n",
    "Columns: 9 (features + target).\r\n",
    "\r\n",
    "Features:\r\n",
    "\r\n",
    "Car_Name → Brand/model of car (removed later because of too many unique values).\r\n",
    "\r\n",
    "Year → Year of purchase (converted to \"Car Age\").\r\n",
    "\r\n",
    "Selling_Price → Target variable (price of used car in lakhs).\r\n",
    "\r\n",
    "Present_Price → Current showroom price of the car (new).\r\n",
    "\r\n",
    "Driven_kms → Distance driven (car usage).\r\n",
    "\r\n",
    "Fuel_Type → Petrol/Diesel/CNG.\r\n",
    "\r\n",
    "Selling_type → Dealer/Individual.\r\n",
    "\r\n",
    "Transmission → Manual/Automatic.\r\n",
    "\r\n",
    "Owner → Number of previous owners."
   ]
  },
  {
   "cell_type": "markdown",
   "id": "be26aea2-d051-41ec-98bf-8c38a360d871",
   "metadata": {},
   "source": [
    "## 3. Data Preprocessing"
   ]
  },
  {
   "cell_type": "markdown",
   "id": "0c563fc0-5aab-4c41-bd2b-71230f7ab4d7",
   "metadata": {},
   "source": [
    "Car Age: Instead of using \"Year,\" a new feature was created → Car_Age = Current Year – Year of Purchase.\r\n",
    "\r\n",
    "Categorical Encoding: Converted Fuel_Type, Selling_type, and Transmission into numerical form using One-Hot Encoding.\r\n",
    "\r\n",
    "Dropped Irrelevant Features: Car_Name was not useful, so removed."
   ]
  },
  {
   "cell_type": "markdown",
   "id": "39701cf8-c42e-4684-b8e3-fe173bad9bfb",
   "metadata": {},
   "source": [
    "## 4. Model Building \n",
    "Input (X): All car features except Selling_Price.\n",
    "\n",
    "Output (y): Selling_Price.\n",
    "\n",
    "Train-Test Split: 80% data for training, 20% for testing.\n",
    "\n",
    "Model Used: Random Forest Regressor\n",
    "\n",
    "Chosen because it handles both categorical and numerical features well.\n",
    "\n",
    "Works better on small-to-medium datasets compared to linear models."
   ]
  },
  {
   "cell_type": "markdown",
   "id": "a6f1a8b7-fda2-48d8-9103-4f355c3d95b4",
   "metadata": {},
   "source": [
    "## 5. Model Performance¶\r\n",
    "R² Score = 0.958 → The model explains 96% of the variance in selling prices.\r\n",
    "\r\n",
    "RMSE = 0.979 → On average, predictions are off by less than 1 lakh.\r\n",
    "\r\n",
    "This means the model is highly accurate for price prediction."
   ]
  },
  {
   "cell_type": "markdown",
   "id": "a0bdce30-6716-4dd3-a8f6-5dd7805d2a5a",
   "metadata": {},
   "source": [
    "## 6. Key Insights\r\n",
    "Car Age: Newer cars (low age) have much higher resale prices.\r\n",
    "\r\n",
    "Present Price: Strongest factor affecting resale value. Expensive cars when new remain more valuable when sold.\r\n",
    "\r\n",
    "Transmission: Automatic cars often have higher resale value compared to manual.\r\n",
    "\r\n",
    "Fuel Type: Petrol cars dominate; diesel resale value is decreasing due to fuel price changes.\r\n",
    "\r\n",
    "Owners: More previous owners = lower resale value."
   ]
  },
  {
   "cell_type": "markdown",
   "id": "2d3f43b9-60e0-4863-b1fd-886dd8f49efa",
   "metadata": {},
   "source": [
    "## 7. Visual Analysis\r\n",
    "Trend: Prices drop sharply with car age.\r\n",
    "\r\n",
    "Correlation: Present Price and Car Age are the most important features.\r\n",
    "\r\n",
    "Actual vs Predicted: Predicted prices closely match actual selling prices (points align near diagonal line)."
   ]
  },
  {
   "cell_type": "markdown",
   "id": "9508dcb6-f807-4e7b-a125-d49ccf4821bb",
   "metadata": {},
   "source": [
    "## 8. Applications\r\n",
    "Car Dealers: Automate price estimation.\r\n",
    "\r\n",
    "Car Buyers: Check if quoted price is fair.\r\n",
    "\r\n",
    "Car Sellers: Know the correct market value before selling."
   ]
  },
  {
   "cell_type": "markdown",
   "id": "4a668e44-177a-4c4d-b8e1-86da5c303f0a",
   "metadata": {},
   "source": [
    "## 9. Future Improvements\r\n",
    "Add more features like location, insurance type, accident history, brand reputation.\r\n",
    "\r\n",
    "Try advanced models like XGBoost, Gradient Boosting, or Neural Networks.\r\n",
    "\r\n",
    "Deploy as a web app (Streamlit/Flask) so anyone can input details and get predictions instantly."
   ]
  },
  {
   "cell_type": "code",
   "execution_count": null,
   "id": "f0d37e8a-c148-471c-8447-0a78d0b2b05c",
   "metadata": {},
   "outputs": [],
   "source": []
  }
 ],
 "metadata": {
  "kernelspec": {
   "display_name": "Python 3 (ipykernel)",
   "language": "python",
   "name": "python3"
  },
  "language_info": {
   "codemirror_mode": {
    "name": "ipython",
    "version": 3
   },
   "file_extension": ".py",
   "mimetype": "text/x-python",
   "name": "python",
   "nbconvert_exporter": "python",
   "pygments_lexer": "ipython3",
   "version": "3.11.7"
  }
 },
 "nbformat": 4,
 "nbformat_minor": 5
}
